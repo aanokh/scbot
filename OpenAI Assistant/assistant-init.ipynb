{
 "cells": [
  {
   "cell_type": "code",
   "execution_count": 6,
   "metadata": {},
   "outputs": [],
   "source": [
    "from openai import OpenAI\n",
    "import json\n",
    "import os"
   ]
  },
  {
   "cell_type": "code",
   "execution_count": 7,
   "metadata": {},
   "outputs": [],
   "source": [
    "API_KEY = 'YOUR_API_KEY'\n",
    "MODEL = 'gpt-4o-mini'\n",
    "ASSISTANT_ID = 'YOUR_ASSISTANT_ID'"
   ]
  },
  {
   "cell_type": "code",
   "execution_count": 8,
   "metadata": {},
   "outputs": [],
   "source": [
    "def show_json(obj):\n",
    "    display(json.loads(obj.model_dump_json()))"
   ]
  },
  {
   "cell_type": "code",
   "execution_count": 9,
   "metadata": {},
   "outputs": [],
   "source": [
    "def find_files_with_extensions(directory, extensions):\n",
    "\n",
    "    matched_files = []    \n",
    "    for root, _, files in os.walk(directory):\n",
    "        for file in files:\n",
    "            if any(file.endswith(ext) for ext in extensions):\n",
    "                matched_files.append(os.path.join(root, file))\n",
    "                \n",
    "    return matched_files"
   ]
  },
  {
   "cell_type": "code",
   "execution_count": 11,
   "metadata": {},
   "outputs": [],
   "source": [
    "client = OpenAI(api_key=API_KEY)"
   ]
  },
  {
   "cell_type": "markdown",
   "metadata": {},
   "source": [
    "### Step 1: Create a new Assistant with File Search Enabled"
   ]
  },
  {
   "cell_type": "code",
   "execution_count": null,
   "metadata": {},
   "outputs": [],
   "source": [
    "assistant = client.beta.assistants.create(\n",
    "  name=\"AI Bot Creator\",\n",
    "  instructions=\"You are an expert financial analyst for Companies 10k documents. You will use file_search tool to retrieve latest data from companies finantial reports 10k and use you knowledge base to answer questions about these financial statements.In case if you need to do calculations on numbers from these documents you will use code_interpreter tool\",\n",
    "  model=MODEL,\n",
    "  tools=[{\"type\": \"file_search\"}, {\"type\": \"code_interpreter\"}],\n",
    ")"
   ]
  },
  {
   "cell_type": "code",
   "execution_count": null,
   "metadata": {},
   "outputs": [],
   "source": [
    "show_json(assistant)"
   ]
  },
  {
   "cell_type": "markdown",
   "metadata": {},
   "source": [
    "### Create Vector Store"
   ]
  },
  {
   "cell_type": "code",
   "execution_count": 13,
   "metadata": {},
   "outputs": [],
   "source": [
    "vector_store = client.beta.vector_stores.create(name=\"AI bot Sc2\")"
   ]
  },
  {
   "cell_type": "markdown",
   "metadata": {},
   "source": [
    "### Load Files into the vector store"
   ]
  },
  {
   "cell_type": "code",
   "execution_count": 14,
   "metadata": {},
   "outputs": [
    {
     "data": {
      "text/plain": [
       "85"
      ]
     },
     "execution_count": 14,
     "metadata": {},
     "output_type": "execute_result"
    }
   ],
   "source": [
    "file_path1 = find_files_with_extensions('python-sc2/sc2',['.py','.md'])\n",
    "file_path2 = find_files_with_extensions('python-sc2/examples',['.py','.md'])\n",
    "file_paths = file_path1 + file_path2 + ['python-sc2/README.md']"
   ]
  },
  {
   "cell_type": "code",
   "execution_count": null,
   "metadata": {},
   "outputs": [],
   "source": [
    "len(file_paths)"
   ]
  },
  {
   "cell_type": "code",
   "execution_count": 15,
   "metadata": {},
   "outputs": [
    {
     "data": {
      "text/plain": [
       "['python-sc2/sc2/expiring_dict.py',\n",
       " 'python-sc2/sc2/game_state.py',\n",
       " 'python-sc2/sc2/maps.py',\n",
       " 'python-sc2/sc2/sc2process.py',\n",
       " 'python-sc2/sc2/bot_ai.py',\n",
       " 'python-sc2/sc2/controller.py',\n",
       " 'python-sc2/sc2/units.py',\n",
       " 'python-sc2/sc2/paths.py',\n",
       " 'python-sc2/sc2/renderer.py',\n",
       " 'python-sc2/sc2/wsl.py',\n",
       " 'python-sc2/sc2/proxy.py',\n",
       " 'python-sc2/sc2/protocol.py',\n",
       " 'python-sc2/sc2/client.py',\n",
       " 'python-sc2/sc2/observer_ai.py',\n",
       " 'python-sc2/sc2/constants.py',\n",
       " 'python-sc2/sc2/power_source.py',\n",
       " 'python-sc2/sc2/cache.py',\n",
       " 'python-sc2/sc2/__init__.py',\n",
       " 'python-sc2/sc2/portconfig.py',\n",
       " 'python-sc2/sc2/generate_ids.py',\n",
       " 'python-sc2/sc2/action.py',\n",
       " 'python-sc2/sc2/unit_command.py',\n",
       " 'python-sc2/sc2/bot_ai_internal.py',\n",
       " 'python-sc2/sc2/game_data.py',\n",
       " 'python-sc2/sc2/player.py',\n",
       " 'python-sc2/sc2/unit.py',\n",
       " 'python-sc2/sc2/position.py',\n",
       " 'python-sc2/sc2/game_info.py',\n",
       " 'python-sc2/sc2/versions.py',\n",
       " 'python-sc2/sc2/pixel_map.py',\n",
       " 'python-sc2/sc2/main.py',\n",
       " 'python-sc2/sc2/data.py',\n",
       " 'python-sc2/sc2/score.py',\n",
       " 'python-sc2/sc2/dicts/unit_tech_alias.py',\n",
       " 'python-sc2/sc2/dicts/upgrade_researched_from.py',\n",
       " 'python-sc2/sc2/dicts/unit_trained_from.py',\n",
       " 'python-sc2/sc2/dicts/generic_redirect_abilities.py',\n",
       " 'python-sc2/sc2/dicts/unit_abilities.py',\n",
       " 'python-sc2/sc2/dicts/__init__.py',\n",
       " 'python-sc2/sc2/dicts/unit_unit_alias.py',\n",
       " 'python-sc2/sc2/dicts/unit_train_build_abilities.py',\n",
       " 'python-sc2/sc2/dicts/unit_research_abilities.py',\n",
       " 'python-sc2/sc2/ids/ability_id.py',\n",
       " 'python-sc2/sc2/ids/effect_id.py',\n",
       " 'python-sc2/sc2/ids/buff_id.py',\n",
       " 'python-sc2/sc2/ids/__init__.py',\n",
       " 'python-sc2/sc2/ids/id_version.py',\n",
       " 'python-sc2/sc2/ids/upgrade_id.py',\n",
       " 'python-sc2/sc2/ids/unit_typeid.py',\n",
       " 'python-sc2/examples/external_bot.py',\n",
       " 'python-sc2/examples/too_slow_bot.py',\n",
       " 'python-sc2/examples/worker_rush.py',\n",
       " 'python-sc2/examples/host_external_norestart.py',\n",
       " 'python-sc2/examples/arcade_bot.py',\n",
       " 'python-sc2/examples/__init__.py',\n",
       " 'python-sc2/examples/watch_replay.py',\n",
       " 'python-sc2/examples/play_tvz.py',\n",
       " 'python-sc2/examples/observer_easy_vs_easy.py',\n",
       " 'python-sc2/examples/worker_stack_bot.py',\n",
       " 'python-sc2/examples/fastreload.py',\n",
       " 'python-sc2/examples/simulate_fight_scenario.py',\n",
       " 'python-sc2/examples/distributed_workers.py',\n",
       " 'python-sc2/examples/bot_vs_bot.py',\n",
       " 'python-sc2/examples/terran/onebase_battlecruiser.py',\n",
       " 'python-sc2/examples/terran/__init__.py',\n",
       " 'python-sc2/examples/terran/ramp_wall.py',\n",
       " 'python-sc2/examples/terran/mass_reaper.py',\n",
       " 'python-sc2/examples/terran/cyclone_push.py',\n",
       " 'python-sc2/examples/terran/proxy_rax.py',\n",
       " 'python-sc2/examples/zerg/worker_split.py',\n",
       " 'python-sc2/examples/zerg/__init__.py',\n",
       " 'python-sc2/examples/zerg/zerg_rush.py',\n",
       " 'python-sc2/examples/zerg/onebase_broodlord.py',\n",
       " 'python-sc2/examples/zerg/expand_everywhere.py',\n",
       " 'python-sc2/examples/zerg/hydralisk_push.py',\n",
       " 'python-sc2/examples/competitive/run.py',\n",
       " 'python-sc2/examples/competitive/__init__.py',\n",
       " 'python-sc2/examples/competitive/README.md',\n",
       " 'python-sc2/examples/competitive/bot.py',\n",
       " 'python-sc2/examples/protoss/cannon_rush.py',\n",
       " 'python-sc2/examples/protoss/warpgate_push.py',\n",
       " 'python-sc2/examples/protoss/__init__.py',\n",
       " 'python-sc2/examples/protoss/find_adept_shades.py',\n",
       " 'python-sc2/examples/protoss/threebase_voidray.py',\n",
       " 'python-sc2/README.md']"
      ]
     },
     "execution_count": 15,
     "metadata": {},
     "output_type": "execute_result"
    }
   ],
   "source": [
    "file_paths"
   ]
  },
  {
   "cell_type": "code",
   "execution_count": 16,
   "metadata": {},
   "outputs": [
    {
     "name": "stdout",
     "output_type": "stream",
     "text": [
      "completed\n",
      "FileCounts(cancelled=0, completed=85, failed=0, in_progress=0, total=85)\n"
     ]
    }
   ],
   "source": [
    "file_streams = [open(path, \"rb\") for path in file_paths]\n",
    "\n",
    "file_batch = client.beta.vector_stores.file_batches.upload_and_poll(\n",
    "  vector_store_id=vector_store.id, files=file_streams\n",
    ")\n",
    "\n",
    "print(file_batch.status)\n",
    "print(file_batch.file_counts)"
   ]
  },
  {
   "cell_type": "markdown",
   "metadata": {},
   "source": [
    "### Connect Vector Store with Assistant"
   ]
  },
  {
   "cell_type": "code",
   "execution_count": 17,
   "metadata": {},
   "outputs": [],
   "source": [
    "assistant = client.beta.assistants.update(\n",
    "  assistant_id=ASSISTANT_ID,\n",
    "  tool_resources={\"file_search\": {\"vector_store_ids\": [vector_store.id]}},\n",
    ")"
   ]
  },
  {
   "cell_type": "code",
   "execution_count": null,
   "metadata": {},
   "outputs": [],
   "source": []
  }
 ],
 "metadata": {
  "kernelspec": {
   "display_name": "Python 3",
   "language": "python",
   "name": "python3"
  },
  "language_info": {
   "codemirror_mode": {
    "name": "ipython",
    "version": 3
   },
   "file_extension": ".py",
   "mimetype": "text/x-python",
   "name": "python",
   "nbconvert_exporter": "python",
   "pygments_lexer": "ipython3",
   "version": "3.12.4"
  }
 },
 "nbformat": 4,
 "nbformat_minor": 2
}
